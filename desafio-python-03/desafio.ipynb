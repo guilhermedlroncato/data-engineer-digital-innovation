{
 "metadata": {
  "language_info": {
   "codemirror_mode": {
    "name": "ipython",
    "version": 3
   },
   "file_extension": ".py",
   "mimetype": "text/x-python",
   "name": "python",
   "nbconvert_exporter": "python",
   "pygments_lexer": "ipython3",
   "version": "3.8.10"
  },
  "orig_nbformat": 4,
  "kernelspec": {
   "name": "python3",
   "display_name": "Python 3.8.10 64-bit"
  },
  "interpreter": {
   "hash": "31f2aee4e71d21fbe5cf8b01ff0e069b9275f58929596ceb00d14d90e3e16cd6"
  }
 },
 "nbformat": 4,
 "nbformat_minor": 2,
 "cells": [
  {
   "cell_type": "code",
   "execution_count": null,
   "metadata": {},
   "outputs": [],
   "source": [
    "n = int(input())\n",
    "fib_list = []\n",
    "\n",
    "for i in range(n):\n",
    "    if i < 2:\n",
    "        seq = i      \n",
    "    else:\n",
    "        seq = fib_list[-1] + fib_list[-2]\n",
    "    fib_list.append(seq)\n",
    "\n",
    "fib_string = ' '.join(map(str,fib_list))\n",
    "print(fib_string)"
   ]
  },
  {
   "cell_type": "code",
   "execution_count": null,
   "metadata": {},
   "outputs": [],
   "source": [
    "n = int(input())\n",
    "\n",
    "for i in range(n+1):\n",
    "    if i % 2 == 0 and i > 0:\n",
    "        print(i)"
   ]
  },
  {
   "cell_type": "code",
   "execution_count": 32,
   "metadata": {},
   "outputs": [
    {
     "output_type": "stream",
     "name": "stdout",
     "text": [
      "2\n"
     ]
    }
   ],
   "source": [
    "N = int(input())\n",
    "persons = list(input().replace(' ',''))\n",
    "\n",
    "lowest_pos = 0\n",
    "lowest = 0\n",
    "\n",
    "for i in range(N):\n",
    "    if i == 0:\n",
    "        lowest = persons[i]\n",
    "        lowest_pos = i\n",
    "        continue\n",
    "    if int(lowest) <= int(persons[i]):\n",
    "        continue\n",
    "    else:         \n",
    "        lowest = i\n",
    "        lowest_pos = i\n",
    "    \n",
    "print(lowest_pos+1)"
   ]
  }
 ]
}